{
 "cells": [
  {
   "cell_type": "markdown",
   "metadata": {},
   "source": [
    "Create a train dataset"
   ]
  },
  {
   "cell_type": "code",
   "execution_count": 1,
   "metadata": {},
   "outputs": [],
   "source": [
    "from schnapsen.bots import RdeepBot\n",
    "from nn_bot import NNDataBot, NNPlayingBot, train_NN_model, create_replay_memory_dataset, train_model\n",
    "import random \n",
    "\n",
    "bot1 = RdeepBot(10, 10, random.Random(40), \"Rdeepbot_1\")\n",
    "bot2 = RdeepBot(10, 10, random.Random(40), \"RdeepBot_2\")\n",
    "# create_replay_memory_dataset(bot1=bot1, bot2=bot2)\n"
   ]
  },
  {
   "cell_type": "markdown",
   "metadata": {},
   "source": [
    "Train different models"
   ]
  },
  {
   "cell_type": "code",
   "execution_count": 3,
   "metadata": {},
   "outputs": [
    {
     "name": "stdout",
     "output_type": "stream",
     "text": [
      "Dataset Statistics:\n",
      "Samples of wins: 7558\n",
      "Samples of losses: 7558\n",
      "Training a Complex (Neural Network) model.\n",
      "Starting training phase...\n",
      "Iteration 1, loss = 0.72222260\n",
      "Validation score: 0.555556\n",
      "Iteration 2, loss = 0.69560000\n",
      "Validation score: 0.580026\n",
      "Iteration 3, loss = 0.68184566\n",
      "Validation score: 0.592593\n",
      "Iteration 4, loss = 0.67435184\n",
      "Validation score: 0.598545\n",
      "Iteration 5, loss = 0.66989459\n",
      "Validation score: 0.606481\n",
      "Iteration 6, loss = 0.66707729\n",
      "Validation score: 0.605159\n",
      "Iteration 7, loss = 0.66483570\n",
      "Validation score: 0.598545\n",
      "Iteration 8, loss = 0.66311316\n",
      "Validation score: 0.596561\n",
      "Iteration 9, loss = 0.66166146\n",
      "Validation score: 0.598545\n",
      "Iteration 10, loss = 0.66045625\n",
      "Validation score: 0.601190\n",
      "Iteration 11, loss = 0.65935010\n",
      "Validation score: 0.603836\n",
      "Iteration 12, loss = 0.65832664\n",
      "Validation score: 0.604497\n",
      "Validation score did not improve more than tol=0.000100 for 6 consecutive epochs. Stopping.\n",
      "The model was trained in  0.010071690877278645 minutes.\n"
     ]
    }
   ],
   "source": [
    "train_model((10, 10))"
   ]
  }
 ],
 "metadata": {
  "kernelspec": {
   "display_name": "Main",
   "language": "python",
   "name": "python3"
  },
  "language_info": {
   "codemirror_mode": {
    "name": "ipython",
    "version": 3
   },
   "file_extension": ".py",
   "mimetype": "text/x-python",
   "name": "python",
   "nbconvert_exporter": "python",
   "pygments_lexer": "ipython3",
   "version": "3.10.13"
  }
 },
 "nbformat": 4,
 "nbformat_minor": 2
}
