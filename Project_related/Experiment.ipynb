{
 "cells": [
  {
   "cell_type": "code",
   "execution_count": 1,
   "metadata": {},
   "outputs": [
    {
     "ename": "ImportError",
     "evalue": "attempted relative import with no known parent package",
     "output_type": "error",
     "traceback": [
      "\u001b[1;31m---------------------------------------------------------------------------\u001b[0m",
      "\u001b[1;31mImportError\u001b[0m                               Traceback (most recent call last)",
      "Cell \u001b[1;32mIn[1], line 2\u001b[0m\n\u001b[0;32m      1\u001b[0m \u001b[38;5;28;01mfrom\u001b[39;00m \u001b[38;5;21;01mschnapsen\u001b[39;00m\u001b[38;5;21;01m.\u001b[39;00m\u001b[38;5;21;01mbots\u001b[39;00m \u001b[38;5;28;01mimport\u001b[39;00m RdeepBot\n\u001b[1;32m----> 2\u001b[0m \u001b[38;5;28;01mfrom\u001b[39;00m \u001b[38;5;21;01m.\u001b[39;00m\u001b[38;5;21;01mschnapsen\u001b[39;00m\u001b[38;5;21;01m.\u001b[39;00m\u001b[38;5;21;01msrc\u001b[39;00m\u001b[38;5;21;01m.\u001b[39;00m\u001b[38;5;21;01mschnapsen\u001b[39;00m\u001b[38;5;21;01m.\u001b[39;00m\u001b[38;5;21;01mbots\u001b[39;00m\u001b[38;5;21;01m.\u001b[39;00m\u001b[38;5;21;01mnn_bot\u001b[39;00m \u001b[38;5;28;01mimport\u001b[39;00m NNDataBot, NNPlayingBot, train_NN_model, create_replay_memory_dataset\n\u001b[0;32m      3\u001b[0m \u001b[38;5;28;01mimport\u001b[39;00m \u001b[38;5;21;01mrandom\u001b[39;00m \n\u001b[0;32m      5\u001b[0m bot1 \u001b[38;5;241m=\u001b[39m RdeepBot(\u001b[38;5;241m10\u001b[39m, \u001b[38;5;241m10\u001b[39m, random\u001b[38;5;241m.\u001b[39mRandom(\u001b[38;5;241m40\u001b[39m), \u001b[38;5;124m\"\u001b[39m\u001b[38;5;124mRdeepbot_1\u001b[39m\u001b[38;5;124m\"\u001b[39m)\n",
      "\u001b[1;31mImportError\u001b[0m: attempted relative import with no known parent package"
     ]
    }
   ],
   "source": [
    "from schnapsen.bots import RdeepBot\n",
    "from schnapsen.bots\n",
    "import random \n",
    "\n",
    "bot1 = RdeepBot(10, 10, random.Random(40), \"Rdeepbot_1\")\n",
    "bot2 = RdeepBot(10, 10, random.Random(40), \"RdeepBot_2\")\n",
    "\n",
    "create_replay_memory_dataset(bot1=bot1, bot2=bot2)\n"
   ]
  }
 ],
 "metadata": {
  "kernelspec": {
   "display_name": "Main",
   "language": "python",
   "name": "python3"
  },
  "language_info": {
   "codemirror_mode": {
    "name": "ipython",
    "version": 3
   },
   "file_extension": ".py",
   "mimetype": "text/x-python",
   "name": "python",
   "nbconvert_exporter": "python",
   "pygments_lexer": "ipython3",
   "version": "3.10.13"
  }
 },
 "nbformat": 4,
 "nbformat_minor": 2
}
